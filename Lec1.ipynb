{
 "cells": [
  {
   "cell_type": "markdown",
   "id": "c7a1e479-c92a-4611-820b-3a0451f665c4",
   "metadata": {},
   "source": [
    "# Hands-on Exercise (1)\n",
    "\n",
    "**Basics of quantum computation and quantum algorithms**\n",
    "\n",
    "$\\newcommand{\\ket}[1]{|#1\\rangle}$\n",
    "$\\newcommand{\\braket}[2]{\\langle #1 | #2 \\rangle}$"
   ]
  },
  {
   "cell_type": "code",
   "execution_count": null,
   "id": "6d64101b-a6db-4921-bc56-7d5213bb29c5",
   "metadata": {
    "tags": [
     "remove-output"
    ],
    "pycharm": {
     "is_executing": true
    }
   },
   "outputs": [],
   "source": [
    "# Import everything\n",
    "import sys\n",
    "import numpy as np\n",
    "import matplotlib.pyplot as plt\n",
    "from IPython.display import Math\n",
    "from qiskit import QuantumCircuit, QuantumRegister, ClassicalRegister, transpile\n",
    "#from qiskit.tools.monitor import job_monitor\n",
    "from qiskit_aer import AerSimulator\n",
    "from qiskit_ibm_provider import IBMProvider, least_busy\n",
    "\n",
    "sys.path.append('/home/jovyan/kmi-school-2024')\n",
    "from qc_workbook.show_state import statevector_expr\n",
    "from qc_workbook.utils import operational_backend\n",
    "\n",
    "print('notebook ready')"
   ]
  },
  {
   "cell_type": "markdown",
   "id": "c8cbd7a3-d9e5-413d-971c-c9d2d18b7c84",
   "metadata": {},
   "source": [
    "## Preparation: State-vector simulator and mathematical expression of state vector\n",
    "\n",
    "In order to examine a quantum state more closely, one can use the state-vector simulator in Qiskit's `AerSimulator`. The state-vector simulator allows us to access full information about quantum states including amplitudes of all computational basis states at the output of the circuit."
   ]
  },
  {
   "cell_type": "code",
   "execution_count": null,
   "id": "df946b3d-25d2-466d-b386-5d64f29f59df",
   "metadata": {
    "pycharm": {
     "is_executing": true
    }
   },
   "outputs": [],
   "source": [
    "simulator = AerSimulator(method='statevector')\n",
    "print(simulator.name)"
   ]
  },
  {
   "cell_type": "markdown",
   "id": "b6824843-5e62-4ed4-a2e2-90e7eb2335ba",
   "metadata": {},
   "source": [
    "Example:"
   ]
  },
  {
   "cell_type": "code",
   "execution_count": null,
   "id": "f06a95c1-d0e5-41ae-9d97-e47276774d23",
   "metadata": {
    "pycharm": {
     "is_executing": true
    }
   },
   "outputs": [],
   "source": [
    "circuit = QuantumCircuit(2)\n",
    "circuit.h(0)\n",
    "circuit.cx(0, 1)\n",
    "circuit.ry(-3. * np.pi / 4., 1)\n",
    "\n",
    "# Not measure_all() to access quantum states at the end of the circuit\n",
    "\n",
    "circuit.draw('mpl')"
   ]
  },
  {
   "cell_type": "markdown",
   "source": [
    "For now, just ignore what the 'transpile()' function does. We use `result.data()['statevector']` to get the state vector instead of `result.get_counts()` which will be used later to get measured counts."
   ],
   "metadata": {
    "collapsed": false
   }
  },
  {
   "cell_type": "code",
   "execution_count": null,
   "id": "32aad9a8-1193-4cd6-94ae-867e1d8e8b5e",
   "metadata": {
    "pycharm": {
     "is_executing": true
    }
   },
   "outputs": [],
   "source": [
    "def get_statevector_array(circuit):\n",
    "    # Use a copy of the circuit in argument\n",
    "    circuit = circuit.copy()\n",
    "    # Instruction to store the state vector in the final state of the circuit\n",
    "    circuit.save_statevector()\n",
    "    # \"Transpile\" the circuit and run\n",
    "    circuit = transpile(circuit, backend=simulator)\n",
    "    job = simulator.run(circuit)\n",
    "    result = job.result()\n",
    "    qiskit_statevector = result.data()['statevector']\n",
    "\n",
    "    # result.data()['statevector'] is not a numpy array but an instance of a Qiskit class.\n",
    "    # It can be converted to a numpy array (ndarray) using np.asarray()\n",
    "    return np.asarray(qiskit_statevector)\n",
    "\n",
    "statevector = get_statevector_array(circuit)\n",
    "print(type(statevector), statevector.dtype)\n",
    "print(statevector)"
   ]
  },
  {
   "cell_type": "markdown",
   "id": "ada11199-9810-4f35-ac8c-026b0453c368",
   "metadata": {},
   "source": [
    "Below we use `statevector_expr` function defined in qc_workbook module to express the array of state vectors in mathematical form."
   ]
  },
  {
   "cell_type": "code",
   "execution_count": null,
   "id": "e7f13e42-d1be-44dd-a34d-a49543a5e8a9",
   "metadata": {
    "pycharm": {
     "is_executing": true
    }
   },
   "outputs": [],
   "source": [
    "expr = statevector_expr(statevector)\n",
    "\n",
    "# Typesetting in LaTeX using Math()\n",
    "Math(expr)"
   ]
  },
  {
   "cell_type": "markdown",
   "id": "341e7b61-3089-4975-9d31-2795c7aa8102",
   "metadata": {},
   "source": [
    "## Creation of simple quantum states"
   ]
  },
  {
   "cell_type": "markdown",
   "id": "025197c4-ac3d-490c-b179-8ed58084003b",
   "metadata": {},
   "source": [
    "### Exercise 1: Single-qubit state with relative phase\n",
    "\n",
    "**Exercise**\n",
    "\n",
    "Create the folowing single-qubit state:\n",
    "\n",
    "$$\n",
    "\\frac{1}{\\sqrt{2}}\\left(\\ket{0} + i\\ket{1}\\right)\n",
    "$$\n"
   ]
  },
  {
   "cell_type": "code",
   "execution_count": null,
   "id": "295e200f-107e-49d2-9e82-c2788c9fe947",
   "metadata": {
    "tags": [
     "remove-output"
    ]
   },
   "outputs": [],
   "source": [
    "circuit = QuantumCircuit(1)\n",
    "\n",
    "# ?????"
   ]
  },
  {
   "cell_type": "code",
   "execution_count": null,
   "id": "adfeffdf-f46d-4625-80f8-ac6c5310fd98",
   "metadata": {},
   "outputs": [],
   "source": [
    "# The statevector_expr function can be augmented with a QuantumCircuit object.\n",
    "# amp_norm is an option to specify the normalization of amplitudes.\n",
    "expr = statevector_expr(circuit, amp_norm=(np.sqrt(0.5), r'\\frac{1}{\\sqrt{2}}'))\n",
    "Math(expr)"
   ]
  },
  {
   "cell_type": "markdown",
   "id": "7f0035bc-8f88-4bee-8faf-6a0b95a515ef",
   "metadata": {},
   "source": [
    "### Exercise 2: Bell state with relative phase\n",
    "\n",
    "**Exercise**\n",
    "\n",
    "Create the following 2-qubit state:\n",
    "\n",
    "$$\n",
    "\\frac{1}{\\sqrt{2}}\\left(\\ket{0} + i\\ket{3}\\right) = \\frac{1}{\\sqrt{2}}\\left(\\ket{00} + i\\ket{11}\\right)\n",
    "$$\n"
   ]
  },
  {
   "cell_type": "code",
   "execution_count": null,
   "id": "5ee96467-c6b1-4790-a3c9-4ab5ba777a22",
   "metadata": {
    "tags": [
     "remove-output"
    ]
   },
   "outputs": [],
   "source": [
    "circuit = QuantumCircuit(2)\n",
    "\n",
    "# ?????"
   ]
  },
  {
   "cell_type": "code",
   "execution_count": null,
   "id": "422a1859-4a75-4b43-a449-8d0f852a6490",
   "metadata": {
    "tags": [
     "remove-output"
    ]
   },
   "outputs": [],
   "source": [
    "expr = statevector_expr(circuit, amp_norm=(np.sqrt(0.5), r'\\frac{1}{\\sqrt{2}}'))\n",
    "Math(expr)"
   ]
  },
  {
   "cell_type": "markdown",
   "id": "e00eaf18-f1db-419e-b983-a65608eeee94",
   "metadata": {},
   "source": [
    "### Exercise 3: GHZ state\n",
    "\n",
    "**Exercise**\n",
    "\n",
    "Create the following 3-qubit state:\n",
    "\n",
    "$$\n",
    "\\frac{1}{\\sqrt{2}} (\\ket{0} + \\ket{7}) = \\frac{1}{\\sqrt{2}} (\\ket{000} + \\ket{111})\n",
    "$$\n"
   ]
  },
  {
   "cell_type": "code",
   "execution_count": null,
   "id": "be38a86d-b474-4d93-8ce3-0e13a963081b",
   "metadata": {
    "tags": [
     "remove-output"
    ]
   },
   "outputs": [],
   "source": [
    "circuit = QuantumCircuit(3)\n",
    "\n",
    "# ?????"
   ]
  },
  {
   "cell_type": "code",
   "execution_count": null,
   "id": "c5652faa-1e0f-4675-9097-9088cdb0dc20",
   "metadata": {
    "tags": [
     "remove-output"
    ]
   },
   "outputs": [],
   "source": [
    "expr = statevector_expr(circuit, amp_norm=(np.sqrt(0.5), r'\\frac{1}{\\sqrt{2}}'))\n",
    "Math(expr)"
   ]
  },
  {
   "cell_type": "markdown",
   "id": "a074fed5-d09d-4511-95eb-e2ec96680849",
   "metadata": {},
   "source": [
    "### Exercise 4: Equal superposition state\n",
    "\n",
    "**Exercise**\n",
    "\n",
    "Construct a quantum circuit to create the following $n$-qubit state:\n",
    "\n",
    "$$\n",
    "\\frac{1}{\\sqrt{2^n}} \\sum_{k=0}^{2^n-1} \\ket{k}\n",
    "$$\n",
    "\n",
    "and implement the circuit for $n=4$.\n"
   ]
  },
  {
   "cell_type": "code",
   "execution_count": null,
   "id": "cf2da9bf-38d5-4625-aa3c-a63beb4402bd",
   "metadata": {
    "tags": [
     "remove-output"
    ]
   },
   "outputs": [],
   "source": [
    "num_qubits = 4\n",
    "\n",
    "circuit = QuantumCircuit(num_qubits)\n",
    "\n",
    "# ?????"
   ]
  },
  {
   "cell_type": "code",
   "execution_count": null,
   "id": "de455bfd-2bd7-4fdc-ad0b-e1cea0570f0c",
   "metadata": {
    "tags": [
     "remove-output"
    ]
   },
   "outputs": [],
   "source": [
    "sqrt_2_to_n = 2 ** (num_qubits // 2)\n",
    "expr = statevector_expr(circuit, amp_norm=(1. / sqrt_2_to_n, r'\\frac{1}{%d}' % sqrt_2_to_n))\n",
    "Math(expr)"
   ]
  },
  {
   "cell_type": "markdown",
   "id": "041ce72f-605e-4606-9ab6-c885b23b302c",
   "metadata": {},
   "source": [
    "### Exercise 5: Flip the sign of a certain basis state\n",
    "\n",
    "**Exercise**\n",
    "\n",
    "Construct a quantum circuit to flip the sign of a given basis state $\\ket{5} = \\ket{0101}$ for the 4-qubit equal superposition state created above in Exercise 4.\n"
   ]
  },
  {
   "cell_type": "code",
   "execution_count": null,
   "id": "c8593c76-9e6a-4d3d-991f-c88b98015a73",
   "metadata": {
    "tags": [
     "remove-output"
    ]
   },
   "outputs": [],
   "source": [
    "num_qubits = 4\n",
    "\n",
    "circuit = QuantumCircuit(num_qubits)\n",
    "\n",
    "# ?????"
   ]
  },
  {
   "cell_type": "code",
   "execution_count": null,
   "id": "7ee534f9-58a6-48ff-a37a-18b0313c51c2",
   "metadata": {
    "tags": [
     "remove-output"
    ]
   },
   "outputs": [],
   "source": [
    "sqrt_2_to_n = 2 ** (num_qubits // 2)\n",
    "expr = statevector_expr(circuit, amp_norm=(1. / sqrt_2_to_n, r'\\frac{1}{%d}' % sqrt_2_to_n))\n",
    "Math(expr)"
   ]
  },
  {
   "cell_type": "markdown",
   "id": "1b5edd33-a5fc-4f45-9492-8913de990f43",
   "metadata": {},
   "source": [
    "### Exercise 6: Apply a phase shift to equal superposition state\n",
    "\n",
    "**Exercise**\n",
    "\n",
    "Consider a quantum circuit to create the following $n$-qubit state:\n",
    "\n",
    "$$\n",
    "\\frac{1}{\\sqrt{2^n}}\\sum_{k=0}^{2^n-1} e^{2\\pi i s k/2^n} \\ket{k} \\quad (s \\in \\mathbb{R})\n",
    "$$\n",
    "\n",
    "and implment the circuit for $n=6$ and $s=2.5$.\n",
    "\n",
    "Actually this circuit will be better understood after we learn the Quantum Fourier Transform. Let's come back later."
   ]
  },
  {
   "cell_type": "code",
   "execution_count": null,
   "id": "a58224ca-84dc-46e6-a1f1-9f260bacd297",
   "metadata": {
    "tags": [
     "output_scroll",
     "remove-output"
    ]
   },
   "outputs": [],
   "source": [
    "num_qubits = 6\n",
    "\n",
    "circuit = QuantumCircuit(num_qubits)\n",
    "\n",
    "s = 2.5\n",
    "\n",
    "# ?????"
   ]
  },
  {
   "cell_type": "code",
   "execution_count": null,
   "id": "7f7bdc94-62d8-4f79-a87b-273b12347268",
   "metadata": {
    "tags": [
     "output_scroll",
     "remove-output"
    ]
   },
   "outputs": [],
   "source": [
    "sqrt_2_to_n = 2 ** (num_qubits // 2)\n",
    "amp_norm = (1. / sqrt_2_to_n, r'\\frac{1}{%d}' % sqrt_2_to_n)\n",
    "phase_norm = (2 * np.pi / (2 ** num_qubits), r'\\frac{2 \\pi i}{%d}' % (2 ** num_qubits))\n",
    "expr = statevector_expr(circuit, amp_norm, phase_norm=phase_norm)\n",
    "Math(expr)"
   ]
  },
  {
   "cell_type": "markdown",
   "source": [
    "## Inner product of state vectors"
   ],
   "metadata": {
    "collapsed": false
   }
  },
  {
   "cell_type": "markdown",
   "source": [
    "Now let's take a look at the square of inner product $|\\braket{\\psi}{\\phi}|^2$ between two quantum states $\\ket{\\psi}$ and $\\ket{\\phi}$.\n",
    "\n",
    "First, for the following states:\n",
    "$$\n",
    "\\begin{split}\n",
    "\\ket{\\psi} = \\sum_{k=0}^{2^n-1} c_k \\ket{k} \\\\\n",
    "\\ket{\\phi} = \\sum_{k=0}^{2^n-1} d_k \\ket{k}\n",
    "\\end{split}\n",
    "$$\n",
    "\n",
    "the inner prouduct is defined to be\n",
    "\n",
    "$$\n",
    "\\braket{\\psi}{\\phi} = \\sum_{k=0}^{2^n-1} c^{*}_k d_k\n",
    "$$\n",
    "\n",
    "The inner product has the following important property, called Cauchy-Schwarz inequality.\n",
    "\n",
    "$$\n",
    "\\begin{split}\n",
    "0 \\leq |\\braket{\\psi}{\\phi}|^2 \\leq 1 \\\\\n",
    "|\\braket{\\psi}{\\phi}|^2 = 1 \\; \\text{iff} \\; \\ket{\\psi} \\sim \\ket{\\phi}\n",
    "\\end{split}\n",
    "$$\n"
   ],
   "metadata": {
    "collapsed": false
   }
  },
  {
   "cell_type": "markdown",
   "id": "8a42af86-c39d-4a3d-abea-20404eaff38e",
   "metadata": {},
   "source": [
    "### Exercise: Inner product by SWAP test\n",
    "\n",
    "Let us calculate the inner product by using SWAP test.\n",
    "\n",
    "The $\\ket{\\psi}$ and $\\ket{\\phi}$ are both 3-qubit states, and we try to obtain the inner product from the probabilities $P_0$ and $P_1$ of measuring 0 and 1, respectively, in a `test` register:\n",
    "\n",
    "$$\n",
    "P_0 - P_1 = |\\braket{\\psi}{\\phi}|^2\n",
    "$$"
   ]
  },
  {
   "cell_type": "code",
   "execution_count": null,
   "id": "91f5caa7-57e9-4861-b85d-ac0c4274ca18",
   "metadata": {},
   "outputs": [],
   "source": [
    "data_width = 3\n",
    "\n",
    "fig, axs = plt.subplots(1, 2)\n",
    "\n",
    "# Circuit to create a certain state |ψ>\n",
    "psi_circuit = QuantumCircuit(data_width, name='|ψ>')\n",
    "psi_circuit.ry(0.7, 2)\n",
    "psi_circuit.cx(2, 1)\n",
    "psi_circuit.rz(0.5, 1)\n",
    "psi_circuit.cx(1, 0)\n",
    "psi_circuit.draw('mpl', ax=axs[0])\n",
    "axs[0].set_title(r'$\\psi$')\n",
    "\n",
    "# Circuit to create a certain state |φ>\n",
    "phi_circuit = QuantumCircuit(data_width, name='|φ>')\n",
    "phi_circuit.rx(1.2, 0)\n",
    "phi_circuit.ry(2.1, 1)\n",
    "phi_circuit.cx(0, 2)\n",
    "phi_circuit.cz(1, 2)\n",
    "phi_circuit.ry(0.8, 2)\n",
    "phi_circuit.draw('mpl', ax=axs[1])\n",
    "axs[1].set_title(r'$\\phi$')\n",
    "\n",
    "# Create a circuit to calculate inner product with SWAP test\n",
    "reg_data1 = QuantumRegister(data_width, name='data1')\n",
    "reg_data2 = QuantumRegister(data_width, name='data2')\n",
    "reg_test = QuantumRegister(1, name='test')\n",
    "out = ClassicalRegister(1, name='out')\n",
    "\n",
    "circuit = QuantumCircuit(reg_data1, reg_data2, reg_test, out, name='SWAP_test')\n",
    "\n",
    "# Have states |ψ> and |φ> in data registers\n",
    "# You can use append() method to implement other circuits or gates into a circuit object\n",
    "# qargs specifies to which qubits of the target circuit a specified circuit is implemented.\n",
    "circuit.append(psi_circuit, qargs=reg_data1)\n",
    "circuit.append(phi_circuit, qargs=reg_data2)\n",
    "\n",
    "# Add barrier for visibility (no computation by barrier)\n",
    "circuit.barrier()\n",
    "\n",
    "# SWAP test\n",
    "circuit.h(reg_test)\n",
    "\n",
    "for idx in range(data_width):\n",
    "    circuit.cswap(reg_test[0], reg_data1[idx], reg_data2[idx])\n",
    "\n",
    "circuit.h(reg_test)\n",
    "\n",
    "circuit.measure(reg_test, out)\n",
    "\n",
    "circuit.draw('mpl')"
   ]
  },
  {
   "cell_type": "markdown",
   "source": [
    "Let us check the states from the circuits."
   ],
   "metadata": {
    "collapsed": false
   }
  },
  {
   "cell_type": "code",
   "execution_count": null,
   "id": "120ebd6c-537f-4aaf-9f1a-c02e42c0a78c",
   "metadata": {},
   "outputs": [],
   "source": [
    "# |ψ>\n",
    "Math(statevector_expr(psi_circuit, state_label=r'\\psi'))"
   ]
  },
  {
   "cell_type": "code",
   "execution_count": null,
   "id": "b480f6c8-cb6f-43a6-ab35-a0d91a5c2e91",
   "metadata": {},
   "outputs": [],
   "source": [
    "# |φ>\n",
    "Math(statevector_expr(phi_circuit, state_label=r'\\phi'))"
   ]
  },
  {
   "cell_type": "markdown",
   "id": "953dc585-f520-4f17-8acb-5b8ac61e1941",
   "metadata": {},
   "source": [
    "The inner product square $|\\braket{\\psi}{\\phi}|^2$ is"
   ]
  },
  {
   "cell_type": "code",
   "execution_count": null,
   "id": "985cb89f-b339-4c60-bd70-65db6e6cb8ea",
   "metadata": {},
   "outputs": [],
   "source": [
    "sv_psi = get_statevector_array(psi_circuit)\n",
    "sv_phi = get_statevector_array(phi_circuit)\n",
    "print(np.square(np.abs(np.sum(sv_psi.conjugate() * sv_phi))))"
   ]
  },
  {
   "cell_type": "markdown",
   "id": "22933809-25f0-495b-9555-8cef0f35a7fe",
   "metadata": {},
   "source": [
    "The $P_0 - P_1$ obtained from measuring the circuit 1000000 times is"
   ]
  },
  {
   "cell_type": "code",
   "execution_count": null,
   "id": "4a188a52-e8b8-4a3c-bc9d-7c9f2ac9415b",
   "metadata": {},
   "outputs": [],
   "source": [
    "simulator = AerSimulator()\n",
    "shots = 1000000\n",
    "\n",
    "circuit = transpile(circuit, backend=simulator)\n",
    "counts = simulator.run(circuit, shots=shots).result().get_counts()\n",
    "\n",
    "print((counts.get('0', 0) - counts.get('1', 0)) / shots)"
   ]
  },
  {
   "cell_type": "markdown",
   "id": "5fd530ec-144a-4b44-a04f-378c3bd9525c",
   "metadata": {},
   "source": [
    "### Inner product by inverse circuit\n",
    "\n",
    "If we know how to generate the states $\\ket{\\psi}$ and $\\ket{\\phi}$, the inner product can be calculated directly. Suppose the $\\ket{\\psi}$ ($\\ket{\\phi}$) is generated by applying the unitary operator $U_\\psi$ ($U_\\phi$) to the initial $\\ket{0}$ state, the inner product can be calculated by applying the $U_\\phi$ and the inverse unitary $U_\\psi^\\dagger$ and evaluating the probability $P_0$ of measuring 0 in all qubits, that is\n",
    "\n",
    "$$\n",
    "P_0 = |\\langle 0|U_\\psi^\\dagger U_\\phi\\ket{0}|^2 = |\\braket{\\psi}{\\phi}|^2\n",
    "$$"
   ]
  },
  {
   "cell_type": "code",
   "execution_count": null,
   "id": "7d521846-3a53-484c-bb15-1ff9aa46fde7",
   "metadata": {},
   "outputs": [],
   "source": [
    "reg_data = QuantumRegister(data_width, name='data')\n",
    "circuit = QuantumCircuit(reg_data)\n",
    "\n",
    "circuit.append(phi_circuit, qargs=reg_data)\n",
    "# psi_circuit.inverse() -> Inverse circuit of psi_circuit\n",
    "circuit.append(psi_circuit.inverse(), qargs=reg_data)\n",
    "\n",
    "circuit.measure_all()\n",
    "\n",
    "circuit.draw('mpl')"
   ]
  },
  {
   "cell_type": "markdown",
   "id": "2b00c06c-335d-4140-8711-d7d60950a609",
   "metadata": {},
   "source": [
    "The $P_0$ is given like this:"
   ]
  },
  {
   "cell_type": "code",
   "execution_count": null,
   "id": "13ce2297-6e05-4f5b-a5e3-6dcb09ab7f7c",
   "metadata": {},
   "outputs": [],
   "source": [
    "shots = 1000000\n",
    "\n",
    "circuit = transpile(circuit, backend=simulator)\n",
    "counts = simulator.run(circuit, shots=shots).result().get_counts()\n",
    "\n",
    "print(counts.get('000', 0) / shots)"
   ]
  },
  {
   "cell_type": "markdown",
   "id": "46657ce2-5833-4cba-8b12-fc708564c341",
   "metadata": {
    "pycharm": {
     "name": "#%% md\n"
    }
   },
   "source": [
    "## Quantum Fourier Transform\n",
    "\n",
    "The Quantum Fourier Transform (QFT) acting on $\\ket{j}$ transforms the state like this:\n",
    "\n",
    "$$\n",
    "U_{\\mathrm{QFT}} \\ket{j} = \\frac{1}{\\sqrt{2^n}}\\sum_{k=0}^{2^n-1} e^{2\\pi i jk/2^n} \\ket{k}\n",
    "$$\n",
    "\n",
    "The QFT can be implemented in a quantum circuit. Since it's a linear operation, the QFT on the state $\\ket{\\psi} = \\sum_{j=0}^{2^n-1} c_j \\ket{j}$ works as follows:\n",
    "\n",
    "$$\n",
    "\\begin{split}\n",
    "U_{\\mathrm{QFT}} \\ket{\\psi} & = \\frac{1}{\\sqrt{2^n}} \\sum_{j=0}^{2^n-1} c_j \\sum_{k=0}^{2^n-1} e^{2\\pi i jk/2^n} \\ket{k} \\\\\n",
    "& = \\frac{1}{\\sqrt{2^n}} \\sum_{k=0}^{2^n-1} \\tilde{c}_k \\ket{k} \\quad \\left( \\tilde{c}_k = \\sum_{j=0}^{2^n-1} c_j e^{2\\pi i jk/2^n} \\right)\n",
    "\\end{split}\n",
    "$$\n",
    "\n",
    "This is equivalent to discrete Fourier Transform on the amplitudes $\\{c_j\\}_j$.\n",
    "\n",
    "**Example: QFT circuit with $n=6$**"
   ]
  },
  {
   "cell_type": "code",
   "execution_count": null,
   "outputs": [],
   "source": [
    "num_qubits = 6\n",
    "\n",
    "circuit = QuantumCircuit(num_qubits)\n",
    "\n",
    "# Consider the case of |23> as an input state\n",
    "j = 23\n",
    "\n",
    "## Act X on bits with 1 in binary representation of j --> Create the state |j>\n",
    "\n",
    "for i in range(num_qubits):\n",
    "    # j >> i: Shift bit by i to the right for the integer j\n",
    "    # For example, when shifting bit by i=2 to the right for j j=13=001101, we get 000011 (the rightmost 2 bits of 01 are dropped)\n",
    "    # a & 1: Bit-wise AND of the interger a and 1 to check whether the rightmost bit is 1 or not\n",
    "    if ((j >> i) & 1) == 1:\n",
    "        circuit.x(i)\n",
    "\n",
    "circuit.barrier()\n",
    "\n",
    "## Start of QFT part\n",
    "\n",
    "# Loop over target qubits from n-1 to 0\n",
    "for itarg in range(num_qubits - 1, -1, -1):\n",
    "    # Apply Hadamard gate to each target qubit\n",
    "    circuit.h(itarg)\n",
    "    # Loop over control qubits from target - 1 to 0\n",
    "    for ictrl in range(itarg - 1, -1, -1):\n",
    "        # Apply controlled-P gate with the angle depending on the indices of target and control qubits\n",
    "        power = ictrl - itarg - 1 + num_qubits\n",
    "        circuit.cp((2 ** power) * 2. * np.pi / (2 ** num_qubits), ictrl, itarg)\n",
    "\n",
    "    # Add barrier for visibility\n",
    "    circuit.barrier()\n",
    "\n",
    "# Flip the order of qubits at the end\n",
    "for i in range(num_qubits // 2):\n",
    "    circuit.swap(i, num_qubits - 1 - i)\n",
    "\n",
    "## End of QFT part\n",
    "\n",
    "circuit.draw('mpl')"
   ],
   "metadata": {
    "collapsed": false,
    "pycharm": {
     "name": "#%%\n"
    }
   }
  },
  {
   "cell_type": "markdown",
   "source": [
    "Display state vectors"
   ],
   "metadata": {
    "collapsed": false
   }
  },
  {
   "cell_type": "code",
   "execution_count": null,
   "outputs": [],
   "source": [
    "sqrt_2_to_n = 2 ** (num_qubits // 2)\n",
    "amp_norm = (1. / sqrt_2_to_n, r'\\frac{1}{%d}' % sqrt_2_to_n)\n",
    "phase_norm = (2 * np.pi / (2 ** num_qubits), r'\\frac{2 \\pi i}{%d}' % (2 ** num_qubits))\n",
    "expr = statevector_expr(circuit, amp_norm=amp_norm, phase_norm=phase_norm)\n",
    "Math(expr)"
   ],
   "metadata": {
    "collapsed": false,
    "pycharm": {
     "name": "#%%\n"
    }
   }
  },
  {
   "cell_type": "markdown",
   "source": [
    "## Addition by Quantum Fourier Transform\n",
    "\n",
    "Here we will look at how we can use quantum algorithm to do arithmetic like addition. As we see below, this can be done by converting numbers in computational basis states to phases or vice-versa by exploiting phase kickback and QFT. The computation goes through the following process:\n",
    "\n",
    "$$\n",
    "\\ket{0}_{\\mathrm{out}}\\ket{b}_{\\mathrm{in2}}\\ket{a}_{\\mathrm{in1}} \\rightarrow \\ket{a+b}_{\\mathrm{out}}\\ket{b}_{\\mathrm{in2}}\\ket{a}_{\\mathrm{in1}}\n",
    "$$\n"
   ],
   "metadata": {
    "collapsed": false
   }
  },
  {
   "cell_type": "markdown",
   "source": [
    "Below is a function to construct the addition circuit."
   ],
   "metadata": {
    "collapsed": false
   }
  },
  {
   "cell_type": "code",
   "execution_count": null,
   "outputs": [],
   "source": [
    "def setup_addition(circuit, reg1, reg2, reg3):\n",
    "    # Create equal superposition state in reg3\n",
    "    # If single-qubit operations for QuantumCircuit (such as circuit.h) are applied to a register or a list of qubits,\n",
    "    # the same operation is applied to all the qubits in the register or list.\n",
    "    circuit.h(reg3)\n",
    "\n",
    "    # Unit of phase (Integer multiples of dphi are applied using CP gate\n",
    "    dphi = 2. * np.pi / (2 ** reg3.size)\n",
    "\n",
    "    # Control on the qubits in reg1 and reg2\n",
    "    for reg_ctrl in [reg1, reg2]:\n",
    "        # Loop over control qubits\n",
    "        for ictrl, qctrl in enumerate(reg_ctrl):\n",
    "            # Loop over target qubits in reg3\n",
    "            for itarg, qtarg in enumerate(reg3):\n",
    "                # C[P(phi)], phi = 2pi * 2^{ictrl} * 2^{itarg} / 2^{n3}\n",
    "                circuit.cp(dphi * (2 ** (ictrl + itarg)), qctrl, qtarg)\n",
    "\n",
    "    # Add barrier for visibility\n",
    "    circuit.barrier()\n",
    "\n",
    "    # Inverse QFT\n",
    "    for j in range(reg3.size // 2):\n",
    "        circuit.swap(reg3[j], reg3[-1 - j])\n",
    "\n",
    "    for itarg in range(reg3.size):\n",
    "        for ictrl in range(itarg):\n",
    "            power = ictrl - itarg - 1 + reg3.size\n",
    "            circuit.cp(-dphi * (2 ** power), reg3[ictrl], reg3[itarg])\n",
    "\n",
    "        circuit.h(reg3[itarg])\n",
    "\n",
    "print('Defined function setup_addition')"
   ],
   "metadata": {
    "collapsed": false,
    "pycharm": {
     "name": "#%%\n"
    }
   }
  },
  {
   "cell_type": "markdown",
   "source": [
    "As an example, let us calculate 9 + 13."
   ],
   "metadata": {
    "collapsed": false
   }
  },
  {
   "cell_type": "code",
   "execution_count": null,
   "outputs": [],
   "source": [
    "a = 9\n",
    "b = 13\n",
    "\n",
    "# Calcualte the smallest number of bits to express an input value in binary format\n",
    "n1 = np.ceil(np.log2(a + 1)).astype(int)\n",
    "n2 = np.ceil(np.log2(b + 1)).astype(int)\n",
    "n3 = np.ceil(np.log2(a + b + 1)).astype(int)\n",
    "\n",
    "print(f'n1={n1}, n2={n2}, n3={n3}')\n",
    "\n",
    "reg1 = QuantumRegister(n1, 'r1')\n",
    "reg2 = QuantumRegister(n2, 'r2')\n",
    "reg3 = QuantumRegister(n3, 'r3')\n",
    "\n",
    "# QuantumCircuit can be built by passing quantum registers as well as qubits\n",
    "circuit = QuantumCircuit(reg1, reg2, reg3)\n",
    "\n",
    "# Create |a> in reg1\n",
    "a_bits = np.unpackbits(np.asarray(a, dtype=np.uint8), bitorder='little')\n",
    "for idx in np.nonzero(a_bits)[0]:\n",
    "    circuit.x(reg1[idx])\n",
    "\n",
    "# Create |b> in reg2\n",
    "b_bits = np.unpackbits(np.asarray(b, dtype=np.uint8), bitorder='little')\n",
    "for idx in np.nonzero(b_bits)[0]:\n",
    "    circuit.x(reg2[idx])\n",
    "\n",
    "# Call addition circuit\n",
    "setup_addition(circuit, reg1, reg2, reg3)\n",
    "\n",
    "# Check the circuit\n",
    "circuit.draw('mpl')"
   ],
   "metadata": {
    "collapsed": false,
    "pycharm": {
     "name": "#%%\n"
    }
   }
  },
  {
   "cell_type": "markdown",
   "source": [
    "Let us check the final state."
   ],
   "metadata": {
    "collapsed": false
   }
  },
  {
   "cell_type": "code",
   "source": [
    "expr = statevector_expr(circuit, register_sizes=(n1, n2, n3))\n",
    "Math(expr)"
   ],
   "metadata": {
    "collapsed": false,
    "pycharm": {
     "name": "#%%\n"
    }
   },
   "execution_count": null,
   "outputs": []
  },
  {
   "cell_type": "markdown",
   "source": [
    "## Addition by QFT in parallel\n",
    "\n",
    "This circuit will work obviously on superposition states, allowing to calculate the addition in parallel:\n",
    "\n",
    "$$\n",
    "\\frac{1}{\\sqrt{2^{n_1 + n_2}}} \\sum_{j=0}^{2^{n_1}-1} \\sum_{k=0}^{2^{n_2}-1} \\ket{0}\\ket{k}\\ket{j} \\rightarrow \\frac{1}{\\sqrt{2^{n_1 + n_2}}} \\sum_{j=0}^{2^{n_1}-1} \\sum_{k=0}^{2^{n_2}-1} \\ket{j+k}\\ket{k}\\ket{j}\n",
    "$$"
   ],
   "metadata": {
    "collapsed": false
   }
  },
  {
   "cell_type": "code",
   "execution_count": null,
   "outputs": [],
   "source": [
    "n1 = 4\n",
    "n2 = 4\n",
    "n3 = np.ceil(np.log2((2 ** n1) + (2 ** n2) - 1)).astype(int)\n",
    "\n",
    "reg1 = QuantumRegister(n1, 'r1')\n",
    "reg2 = QuantumRegister(n2, 'r2')\n",
    "reg3 = QuantumRegister(n3, 'r3')\n",
    "\n",
    "circuit = QuantumCircuit(reg1, reg2, reg3)\n",
    "\n",
    "# Create equal superposition states in reg1 and reg2\n",
    "circuit.h(reg1)\n",
    "circuit.h(reg2)\n",
    "\n",
    "setup_addition(circuit, reg1, reg2, reg3)\n",
    "\n",
    "expr = statevector_expr(circuit, register_sizes=(n1, n2, n3), amp_norm=(1. / np.sqrt(2 ** (n1 + n2)), r'\\frac{1}{\\sqrt{2^{n_1 + n_2}}}'))\n",
    "Math(expr)"
   ],
   "metadata": {
    "collapsed": false,
    "pycharm": {
     "name": "#%%\n"
    }
   }
  },
  {
   "cell_type": "markdown",
   "source": [
    "### Execute with simulator"
   ],
   "metadata": {
    "collapsed": false
   }
  },
  {
   "cell_type": "code",
   "execution_count": null,
   "outputs": [],
   "source": [
    "simulator = AerSimulator()\n",
    "\n",
    "# Add measurement to the circuit and transpile\n",
    "circuit.measure_all()\n",
    "circuit = transpile(circuit, backend=simulator)\n",
    "\n",
    "job = simulator.run(circuit, shots=20)\n",
    "counts = job.result().get_counts()\n",
    "\n",
    "heights = []\n",
    "labels = []\n",
    "\n",
    "for key, value in counts.items():\n",
    "    heights.append(value)\n",
    "\n",
    "    # Since the key in counts is a big binary number, it is split into output, input 2 and input 1\n",
    "    # If the inputs are 4 + 4 bits,\n",
    "    #  00110 0101 0001 -> 6 = 5 + 1\n",
    "    #  n3    n2   n1\n",
    "    x1 = int(key[-n1:], 2) # last n1 digits\n",
    "    x2 = int(key[-n1 - n2:-n1], 2) # next-to-last n2 digits\n",
    "    x3 = int(key[:-n1 - n2], 2) # first n3 digits\n",
    "    labels.append(f'{x1} + {x2} = {x3}')\n",
    "\n",
    "x = np.linspace(0., len(labels), len(labels), endpoint=False)\n",
    "\n",
    "# Make the plot\n",
    "plt.bar(x, heights, width=0.5)\n",
    "plt.xticks(ticks=(x - 0.2), labels=labels, rotation=70)\n",
    "plt.tick_params('x', length=0.)"
   ],
   "metadata": {
    "collapsed": false,
    "pycharm": {
     "name": "#%%\n"
    }
   }
  },
  {
   "cell_type": "markdown",
   "source": [
    "## Quantum Phase Estimation\n",
    "\n",
    "### Simple QPE example\n",
    "\n",
    "Here we consider a single-qubit $S$ gate ($\\sqrt{Z}$ gate) as a unitary $U$. For this $U$, the eigenvector $|\\psi\\rangle$ that satisfies $U|\\psi\\rangle=e^{2\\pi i\\theta}|\\psi\\rangle$ needs to be prepared. Since $S|1\\rangle=e^{i\\pi/2}|1\\rangle$ with $|1\\rangle=\\begin{pmatrix}0\\\\1\\end{pmatrix}$, $|1\\rangle$ and $e^{i\\pi/2}$ are the eigenvector and eigenvalue of the $S$ gate, respectively. In the case of $S$ gate, the QPE will allow us to obtain $\\theta=1/4$ as phase $\\theta$ of the eigenvalue $e^{2\\pi i\\theta}$.\n"
   ],
   "metadata": {
    "collapsed": false
   }
  },
  {
   "cell_type": "code",
   "execution_count": null,
   "outputs": [],
   "source": [
    "n_meas = 3\n",
    "\n",
    "# Register for phase measurement\n",
    "qreg_meas = QuantumRegister(n_meas, name='meas')\n",
    "# Register to store eigenvector\n",
    "qreg_aux = QuantumRegister(1, name='aux')\n",
    "# Classical register for output\n",
    "creg_meas = ClassicalRegister(n_meas, name='out')\n",
    "\n",
    "# Build a circuit\n",
    "qc = QuantumCircuit(qreg_meas, qreg_aux, creg_meas)\n",
    "\n",
    "# Create equal superposition state in meas register and eigenvector |1> in aux register\n",
    "qc.h(qreg_meas)\n",
    "qc.x(qreg_aux)\n",
    "\n",
    "# What we want to get by QPE is angle/(2π)\n",
    "angle = np.pi / 2\n",
    "\n",
    "# Since S = P(π/2), we use CP(xπ/2) for (Controlled-S)^x\n",
    "for x, ctrl in enumerate(qreg_meas):\n",
    "    qc.cp(angle * (2 ** x), ctrl, qreg_aux[0])"
   ],
   "metadata": {
    "collapsed": false,
    "pycharm": {
     "name": "#%%\n"
    }
   }
  },
  {
   "cell_type": "code",
   "execution_count": null,
   "outputs": [],
   "source": [
    "def qft_dagger(qreg):\n",
    "    \"\"\"Inverse QFT circuit\"\"\"\n",
    "    qc = QuantumCircuit(qreg)\n",
    "\n",
    "    ##################\n",
    "    ### EDIT BELOW ###\n",
    "    ##################\n",
    "\n",
    "    #qc?\n",
    "\n",
    "    ##################\n",
    "    ### EDIT ABOVE ###\n",
    "    ##################\n",
    "\n",
    "    qc.name = \"QFT^dagger\"\n",
    "    return qc\n",
    "\n",
    "qc.barrier()\n",
    "qc.append(qft_dagger(qreg_meas), qargs=qreg_meas)\n",
    "qc.barrier()\n",
    "qc.measure(qreg_meas, creg_meas)\n",
    "qc.draw('mpl')"
   ],
   "metadata": {
    "collapsed": false,
    "pycharm": {
     "name": "#%%\n"
    }
   }
  },
  {
   "cell_type": "markdown",
   "source": [
    "### Run on simulator\n",
    "\n",
    "Let us execute on simulator and make a plot of probability distribution. Here we use the Sampler primitive to execute and measure the circuit. The Sampler primitive will allow you to calculate probabilities of bitstrings as measured from the quantum circuit."
   ],
   "metadata": {
    "collapsed": false,
    "pycharm": {
     "name": "#%% md\n"
    }
   }
  },
  {
   "cell_type": "code",
   "execution_count": null,
   "outputs": [],
   "source": [
    "from qiskit.primitives import Sampler\n",
    "\n",
    "# Instantiate a new Sampler object\n",
    "sampler = Sampler()\n",
    "\n",
    "# Now run the job and examine the results\n",
    "sampler_job = sampler.run(qc)\n",
    "result = sampler_job.result()\n",
    "#print(f\"Job Result:\\n>>> {result}\")\n",
    "#print(f\"  > Quasi-probability distribution (integer): {result.quasi_dists[0]}\")\n",
    "#print(f\"  > Quasi-probability distribution (bits): {result.quasi_dists[0].binary_probabilities(2)}\")\n",
    "#print(f\"  > Metadata: {result.metadata[0]}\")\n",
    "\n",
    "from qiskit.visualization import plot_distribution\n",
    "plt.style.use('dark_background')\n",
    "plot_distribution(result.quasi_dists[0])"
   ],
   "metadata": {
    "collapsed": false,
    "pycharm": {
     "name": "#%%\n"
    }
   }
  },
  {
   "cell_type": "markdown",
   "source": [
    "We can explore using this simple circuit, for example,\n",
    "- We used $S$ gate which is $R_Z(\\pi/2)$ gate up to global phase. What happens if we use $R_Z(\\phi)$ gate with the angle $\\phi$ changed between $0<\\phi<\\pi/2$?\n",
    "- The precision of estimated phase will get worse depending on the choice of $\\phi$. How can we improve it?\n",
    "- We used $\\ket{1}$ in the aux register as it's an eigenstate of $S$ gate. What happens if a quantum state other than $\\ket{1}$ is used?"
   ],
   "metadata": {
    "collapsed": false
   }
  },
  {
   "cell_type": "markdown",
   "source": [
    "### Run on quantum computer\n",
    "\n",
    "Finally let us try to run this on quantum hardware. The `least_busy` function allows us to choose the least busy IBM machine.\n"
   ],
   "metadata": {
    "collapsed": false
   }
  },
  {
   "cell_type": "code",
   "execution_count": null,
   "outputs": [],
   "source": [
    "# Use public IBM machine\n",
    "instance = 'ibm-q/open/main'\n",
    "#instance = 'ibm-q-utokyo/internal/icepp'  # For internal use\n",
    "\n",
    "try:\n",
    "    provider = IBMProvider(instance=instance)\n",
    "except AccountNotFoundError:\n",
    "    provider = IBMProvider(token='__paste_your_token_here__', instance=instance)\n",
    "\n",
    "backend_list = provider.backends(filters=operational_backend(min_qubits=4))\n",
    "backend = least_busy(backend_list)\n",
    "print(f\"least busy backend: {backend.name}\")"
   ],
   "metadata": {
    "collapsed": false,
    "pycharm": {
     "name": "#%%\n"
    }
   }
  },
  {
   "cell_type": "markdown",
   "source": [
    "In the backend processing, the QiskitRuntimeService is used together with a Runtime Session for efficient computation on the cloud system. Except for quick sanity checks, this is a recommended way to access IBM quantum machines on the cloud."
   ],
   "metadata": {
    "collapsed": false,
    "pycharm": {
     "name": "#%% md\n"
    }
   }
  },
  {
   "cell_type": "code",
   "execution_count": null,
   "outputs": [],
   "source": [
    "from qiskit_ibm_runtime import Sampler, Session\n",
    "from qiskit_ibm_runtime import QiskitRuntimeService\n",
    "\n",
    "# Initialize a QiskitRuntimeService object\n",
    "service = QiskitRuntimeService()\n",
    "\n",
    "#We will use the 127-qubit ibm_nazca backend\n",
    "backend = service.get_backend(backend.name)\n",
    "\n",
    "# create a Runtime session for efficient execution (optional)\n",
    "session = Session(service=service, backend=backend)\n",
    "sampler = Sampler(session=session)\n",
    "\n",
    "job = sampler.run(qc)\n",
    "print(f\">>> Job ID: {job.job_id()}\")\n",
    "print(f\">>> Session ID: {job.session_id}\")\n",
    "print(f\">>> Job Status: {job.status()}\")"
   ],
   "metadata": {
    "collapsed": false,
    "pycharm": {
     "name": "#%%\n"
    }
   }
  },
  {
   "cell_type": "code",
   "execution_count": null,
   "outputs": [],
   "source": [
    "# Use a job id from a previous result\n",
    "job = service.job(\"cqct56mgepgg008f9380\")\n",
    "print(f\">>> Job Status: {job.status()}\")"
   ],
   "metadata": {
    "collapsed": false,
    "pycharm": {
     "name": "#%%\n"
    }
   }
  },
  {
   "cell_type": "code",
   "execution_count": null,
   "outputs": [],
   "source": [
    "result = job.result()\n",
    "plot_distribution(result.quasi_dists[0])"
   ],
   "metadata": {
    "collapsed": false,
    "pycharm": {
     "name": "#%%\n"
    }
   }
  },
  {
   "cell_type": "markdown",
   "source": [
    "A circuit optimization and error mitigation are important for executing quantum circuit on the present quantum computer. The circuit optimization tries to optimize a transpiled quantum circuit for specific backend and qubit connections. The error mitigation aims to mitigate effects from gate and measurement errors by post-processing the outcomes of the circuit. The measurement error mitigation (so called M3) is included by default in Runtime Sampler session. Below we attempt to use a built-in circuit optimization (with the highest level 3) in Qiskit."
   ],
   "metadata": {
    "collapsed": false
   }
  },
  {
   "cell_type": "code",
   "execution_count": null,
   "outputs": [],
   "source": [
    "from qiskit_ibm_runtime import Options\n",
    "\n",
    "# To set our resilience and optimization level we need to create this `Options` object\n",
    "options = Options()\n",
    "options.resilience_level = 1  # default 1\n",
    "options.optimization_level = 3\n",
    "\n",
    "sampler = Sampler(options=options, session=session)\n",
    "\n",
    "job = sampler.run(qc)\n",
    "print(f\">>> Job ID: {job.job_id()}\")\n",
    "print(f\">>> Session ID: {job.session_id}\")\n",
    "print(f\">>> Job Status: {job.status()}\")"
   ],
   "metadata": {
    "collapsed": false,
    "pycharm": {
     "name": "#%%\n"
    }
   }
  },
  {
   "cell_type": "code",
   "execution_count": null,
   "outputs": [],
   "source": [
    "# Use a job id from a previous result\n",
    "job = service.job(\"cqct5vfxdecg008w4x1g\")\n",
    "print(f\">>> Job Status: {job.status()}\")"
   ],
   "metadata": {
    "collapsed": false,
    "pycharm": {
     "name": "#%%\n"
    }
   }
  },
  {
   "cell_type": "code",
   "execution_count": null,
   "outputs": [],
   "source": [
    "result = job.result()\n",
    "plot_distribution(result.quasi_dists[0])"
   ],
   "metadata": {
    "collapsed": false,
    "pycharm": {
     "name": "#%%\n"
    }
   }
  },
  {
   "cell_type": "markdown",
   "source": [
    "### Below is the answers to above exerice cells\n",
    "\n",
    "**Exercise 1**"
   ],
   "metadata": {
    "collapsed": false
   }
  },
  {
   "cell_type": "code",
   "execution_count": null,
   "outputs": [],
   "source": [
    "circuit.h(0)\n",
    "circuit.p(np.pi / 2., 0)"
   ],
   "metadata": {
    "collapsed": false,
    "pycharm": {
     "name": "#%%\n"
    }
   }
  },
  {
   "cell_type": "markdown",
   "source": [
    "**Exercise 2**"
   ],
   "metadata": {
    "collapsed": false
   }
  },
  {
   "cell_type": "code",
   "execution_count": null,
   "outputs": [],
   "source": [
    "circuit.h(0)\n",
    "circuit.p(np.pi / 2., 0)\n",
    "circuit.cx(0, 1)"
   ],
   "metadata": {
    "collapsed": false,
    "pycharm": {
     "name": "#%%\n"
    }
   }
  },
  {
   "cell_type": "markdown",
   "source": [
    "**Exercise 3**"
   ],
   "metadata": {
    "collapsed": false
   }
  },
  {
   "cell_type": "code",
   "execution_count": null,
   "outputs": [],
   "source": [
    "circuit.h(0)\n",
    "circuit.cx(0, 1)\n",
    "circuit.mcx([0, 1], 2)"
   ],
   "metadata": {
    "collapsed": false,
    "pycharm": {
     "name": "#%%\n"
    }
   }
  },
  {
   "cell_type": "markdown",
   "source": [
    "**Exercise 4**"
   ],
   "metadata": {
    "collapsed": false
   }
  },
  {
   "cell_type": "code",
   "execution_count": null,
   "outputs": [],
   "source": [
    "for i in range(4):\n",
    "    circuit.h(i)"
   ],
   "metadata": {
    "collapsed": false,
    "pycharm": {
     "name": "#%%\n"
    }
   }
  },
  {
   "cell_type": "markdown",
   "source": [
    "**Exercise 5**"
   ],
   "metadata": {
    "collapsed": false
   }
  },
  {
   "cell_type": "code",
   "execution_count": null,
   "outputs": [],
   "source": [
    "for i in range(4):\n",
    "    circuit.h(i)\n",
    "\n",
    "circuit.x(1)\n",
    "circuit.x(3)\n",
    "circuit.mcp(np.pi, [0, 1, 2], 3)\n",
    "circuit.x(1)\n",
    "circuit.x(3)"
   ],
   "metadata": {
    "collapsed": false,
    "pycharm": {
     "name": "#%%\n"
    }
   }
  },
  {
   "cell_type": "markdown",
   "source": [
    "**Exercise 6**"
   ],
   "metadata": {
    "collapsed": false
   }
  },
  {
   "cell_type": "code",
   "execution_count": null,
   "outputs": [],
   "source": [
    "for m in range(num_qubits):\n",
    "    circuit.h(m)\n",
    "    circuit.p(2. * np.pi * s / (2 ** (num_qubits - m)), m)"
   ],
   "metadata": {
    "collapsed": false,
    "pycharm": {
     "name": "#%%\n"
    }
   }
  },
  {
   "cell_type": "markdown",
   "source": [
    "**qft_dagger circuit**"
   ],
   "metadata": {
    "collapsed": false
   }
  },
  {
   "cell_type": "code",
   "execution_count": null,
   "outputs": [],
   "source": [
    "    for j in range(qreg.size // 2):\n",
    "        qc.swap(qreg[j], qreg[-1 - j])\n",
    "\n",
    "    for itarg in range(qreg.size):\n",
    "        for ictrl in range(itarg):\n",
    "            power = ictrl - itarg - 1\n",
    "            qc.cp(-2. * np.pi * (2 ** power), ictrl, itarg)\n",
    "\n",
    "        qc.h(itarg)"
   ],
   "metadata": {
    "collapsed": false,
    "pycharm": {
     "name": "#%%\n"
    }
   }
  }
 ],
 "metadata": {
  "kernelspec": {
   "display_name": "Python 3 (ipykernel)",
   "language": "python",
   "name": "python3"
  },
  "language_info": {
   "codemirror_mode": {
    "name": "ipython",
    "version": 3
   },
   "file_extension": ".py",
   "mimetype": "text/x-python",
   "name": "python",
   "nbconvert_exporter": "python",
   "pygments_lexer": "ipython3",
   "version": "3.10.6"
  }
 },
 "nbformat": 4,
 "nbformat_minor": 5
}